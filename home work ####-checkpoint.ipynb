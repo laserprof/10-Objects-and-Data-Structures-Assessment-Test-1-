{
 "cells": [
  {
   "cell_type": "code",
   "execution_count": 1,
   "metadata": {},
   "outputs": [
    {
     "name": "stdout",
     "output_type": "stream",
     "text": [
      "enter the word : hello world\n",
      "enter the word : hello world\n",
      "enter the word : hello world\n",
      "enter the word : hello world\n",
      "enter the word : hello world\n"
     ]
    }
   ],
   "source": [
    "fily=open('test.txt','w')\n",
    "for i in range (5):\n",
    "    b = (input('enter the word : '))\n",
    "    fily.write ( b   + \"\\n\" )\n",
    "fily.close()"
   ]
  },
  {
   "cell_type": "code",
   "execution_count": 2,
   "metadata": {},
   "outputs": [
    {
     "name": "stdout",
     "output_type": "stream",
     "text": [
      "hello world\n",
      "hello world\n",
      "hello world\n",
      "hello world\n",
      "hello world\n",
      "\n"
     ]
    }
   ],
   "source": [
    "fily=open('test.txt','r')\n",
    "print(fily.read())\n",
    "fily.close()"
   ]
  },
  {
   "cell_type": "code",
   "execution_count": 3,
   "metadata": {},
   "outputs": [],
   "source": [
    "fily=open('test.txt','r')\n",
    "for content in fily.read():\n",
    "    y=content.upper()\n",
    "    fily=open('test.txt','a')\n",
    "    fily.write(y)\n",
    "fily.close()"
   ]
  },
  {
   "cell_type": "code",
   "execution_count": 5,
   "metadata": {},
   "outputs": [
    {
     "name": "stdout",
     "output_type": "stream",
     "text": [
      "['hello world\\n', 'hello world\\n', 'hello world\\n', 'hello world\\n', 'hello world\\n', 'HELLO WORLD\\n', 'HELLO WORLD\\n', 'HELLO WORLD\\n', 'HELLO WORLD\\n', 'HELLO WORLD\\n', 'I love python']\n"
     ]
    }
   ],
   "source": [
    "with open('test.txt','a+') as fily:\n",
    "    fily.seek(0)\n",
    "    fily.write(' \\n I love python')\n",
    "    print(fily.readlines())"
   ]
  },
  {
   "cell_type": "code",
   "execution_count": null,
   "metadata": {},
   "outputs": [],
   "source": []
  },
  {
   "cell_type": "code",
   "execution_count": null,
   "metadata": {},
   "outputs": [],
   "source": []
  }
 ],
 "metadata": {
  "kernelspec": {
   "display_name": "Python 3",
   "language": "python",
   "name": "python3"
  },
  "language_info": {
   "codemirror_mode": {
    "name": "ipython",
    "version": 3
   },
   "file_extension": ".py",
   "mimetype": "text/x-python",
   "name": "python",
   "nbconvert_exporter": "python",
   "pygments_lexer": "ipython3",
   "version": "3.7.6"
  }
 },
 "nbformat": 4,
 "nbformat_minor": 4
}
